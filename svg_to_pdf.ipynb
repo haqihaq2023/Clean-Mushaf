{
 "cells": [
  {
   "cell_type": "markdown",
   "metadata": {},
   "source": [
    "#### Credits\n",
    "\n",
    "SVG's from https://github.com/batoulapps/quran-svg/tree/main\n",
    "\n",
    "#### Install Inkscape\n",
    "\n",
    "sudo add-apt-repository universe\n",
    "sudo add-apt-repository ppa:inkscape.dev/stable\n",
    "sudo apt-get update\n",
    "sudo apt install inkscape\n",
    "\n",
    "#### Raw command line command\n",
    "\n",
    "inkscape --export-type=\"pdf\" -D -d 300 --export-filename=\"../../pdf_outputs/001.pdf\" 001.svg"
   ]
  },
  {
   "cell_type": "code",
   "execution_count": null,
   "metadata": {},
   "outputs": [],
   "source": [
    "from pathlib import Path\n",
    "Path.cwd()"
   ]
  },
  {
   "cell_type": "code",
   "execution_count": 5,
   "metadata": {},
   "outputs": [
    {
     "name": "stderr",
     "output_type": "stream",
     "text": [
      "\n",
      "** (org.inkscape.Inkscape:1349905): WARNING **: 15:50:07.278: unsupported target 0\n",
      "\n",
      "\n",
      "** (org.inkscape.Inkscape:1349905): WARNING **: 15:50:07.280: unsupported target 0\n",
      "\n",
      "\n",
      "** (org.inkscape.Inkscape:1349905): WARNING **: 15:50:07.282: unsupported target 0\n",
      "\n",
      "\n",
      "** (org.inkscape.Inkscape:1349905): WARNING **: 15:50:07.284: unsupported target 0\n",
      "\n",
      "\n",
      "** (org.inkscape.Inkscape:1349905): WARNING **: 15:50:07.286: unsupported target 0\n",
      "\n",
      "\n",
      "** (org.inkscape.Inkscape:1349905): WARNING **: 15:50:07.288: unsupported target 0\n",
      "\n",
      "\n",
      "** (org.inkscape.Inkscape:1349905): WARNING **: 15:50:07.291: unsupported target 0\n",
      "\n",
      "\n",
      "** (org.inkscape.Inkscape:1349905): WARNING **: 15:50:07.293: unsupported target 0\n",
      "\n"
     ]
    }
   ],
   "source": [
    "import subprocess\n",
    "\n",
    "pdf_path = Path.cwd()/\"pdf_outputs\"\n",
    "svg_path = Path.cwd()/\"quran-svg/\"\n",
    "\n",
    "last_page = 604\n",
    "\n",
    "for page in range(1, last_page+1):\n",
    "    f_out = pdf_path/f\"{page:0>3}.pdf\"\n",
    "    subprocess.run([\"inkscape\", \"--export-type=pdf\", \"-D\", f\"--export-filename={f_out}\",\n",
    "                    svg_path/f\"{page:0>3}.svg\"]) # fstring: pad with 0's, right-align."
   ]
  },
  {
   "cell_type": "markdown",
   "metadata": {},
   "source": [
    "#### Make the PDF"
   ]
  },
  {
   "cell_type": "code",
   "execution_count": 54,
   "metadata": {},
   "outputs": [],
   "source": [
    "from pypdf import PdfWriter, PdfReader"
   ]
  },
  {
   "cell_type": "code",
   "execution_count": 98,
   "metadata": {},
   "outputs": [],
   "source": [
    "# Step 1: Merge in all the pages.\n",
    "merger = PdfWriter()\n",
    "\n",
    "last_page = 604\n",
    "pages_path = Path.cwd()/\"pdf_outputs\"\n",
    "for p in range(1, last_page+1):\n",
    "    reader = PdfReader(pages_path/f\"{p:0>3}.pdf\")\n",
    "    merger.add_page(reader.pages[0])"
   ]
  },
  {
   "cell_type": "code",
   "execution_count": 120,
   "metadata": {},
   "outputs": [
    {
     "data": {
      "text/plain": [
       "(True, <_io.FileIO [closed]>)"
      ]
     },
     "execution_count": 120,
     "metadata": {},
     "output_type": "execute_result"
    }
   ],
   "source": [
    "# Step 2: Add outline\n",
    "\n",
    "surah_meta = open(\"meta_data.txt\", \"r\").readlines()\n",
    "\n",
    "page_offset = 2\n",
    "\n",
    "for i_surah in range(114):\n",
    "    name, page = surah_meta[i_surah].strip().split(\",\")\n",
    "    merger.add_outline_item(name, int(page))\n",
    "\n",
    "merger.write(Path.cwd()/\"outputs/Clean_Mushaf.pdf\")"
   ]
  }
 ],
 "metadata": {
  "kernelspec": {
   "display_name": "mujoco",
   "language": "python",
   "name": "python3"
  },
  "language_info": {
   "codemirror_mode": {
    "name": "ipython",
    "version": 3
   },
   "file_extension": ".py",
   "mimetype": "text/x-python",
   "name": "python",
   "nbconvert_exporter": "python",
   "pygments_lexer": "ipython3",
   "version": "3.12.0"
  }
 },
 "nbformat": 4,
 "nbformat_minor": 2
}
